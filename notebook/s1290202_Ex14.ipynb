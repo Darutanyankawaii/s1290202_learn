{
 "cells": [
  {
   "cell_type": "code",
   "execution_count": 1,
   "metadata": {},
   "outputs": [
    {
     "name": "stdout",
     "output_type": "stream",
     "text": [
      "Looking in indexes: https://test.pypi.org/simple/\n",
      "Collecting s1290202-learn==2023.8.6.3\n",
      "  Obtaining dependency information for s1290202-learn==2023.8.6.3 from https://test-files.pythonhosted.org/packages/e9/68/25d74f4cfa0b1120a47af6fb52e372f86a1eb52747a7c73911bd7ab8d711/s1290202_learn-2023.8.6.3-py3-none-any.whl.metadata\n",
      "  Downloading https://test-files.pythonhosted.org/packages/e9/68/25d74f4cfa0b1120a47af6fb52e372f86a1eb52747a7c73911bd7ab8d711/s1290202_learn-2023.8.6.3-py3-none-any.whl.metadata (1.4 kB)\n",
      "Requirement already satisfied: psutil in c:\\users\\daru\\appdata\\local\\programs\\python\\python311\\lib\\site-packages\\psutil-5.9.5-py3.11-win-amd64.egg (from s1290202-learn==2023.8.6.3) (5.9.5)\n",
      "Requirement already satisfied: pandas in c:\\users\\daru\\appdata\\local\\programs\\python\\python311\\lib\\site-packages\\pandas-2.0.3-py3.11-win-amd64.egg (from s1290202-learn==2023.8.6.3) (2.0.3)\n",
      "Requirement already satisfied: plotly in c:\\users\\daru\\appdata\\local\\programs\\python\\python311\\lib\\site-packages\\plotly-5.15.0-py3.11.egg (from s1290202-learn==2023.8.6.3) (5.15.0)\n",
      "Requirement already satisfied: matplotlib in c:\\users\\daru\\appdata\\local\\programs\\python\\python311\\lib\\site-packages\\matplotlib-3.7.2-py3.11-win-amd64.egg (from s1290202-learn==2023.8.6.3) (3.7.2)\n",
      "Requirement already satisfied: resource in c:\\users\\daru\\appdata\\local\\programs\\python\\python311\\lib\\site-packages\\resource-0.2.1-py3.11.egg (from s1290202-learn==2023.8.6.3) (0.2.1)\n",
      "Requirement already satisfied: validators in c:\\users\\daru\\appdata\\local\\programs\\python\\python311\\lib\\site-packages\\validators-0.20.0-py3.11.egg (from s1290202-learn==2023.8.6.3) (0.20.0)\n",
      "Requirement already satisfied: urllib3 in c:\\users\\daru\\appdata\\local\\programs\\python\\python311\\lib\\site-packages (from s1290202-learn==2023.8.6.3) (2.0.4)\n",
      "Requirement already satisfied: Pillow in c:\\users\\daru\\appdata\\local\\programs\\python\\python311\\lib\\site-packages\\pillow-10.0.0-py3.11-win-amd64.egg (from s1290202-learn==2023.8.6.3) (10.0.0)\n",
      "Requirement already satisfied: numpy in c:\\users\\daru\\appdata\\local\\programs\\python\\python311\\lib\\site-packages\\numpy-1.25.2-py3.11-win-amd64.egg (from s1290202-learn==2023.8.6.3) (1.25.2)\n",
      "Collecting pami (from s1290202-learn==2023.8.6.3)\n",
      "  Obtaining dependency information for pami from https://test-files.pythonhosted.org/packages/75/28/b09f65cc62d282fab818fcacc44cd5b75735cbecd9f9602222198c269069/pami-2023.8.2.1-py3-none-any.whl.metadata\n",
      "  Downloading https://test-files.pythonhosted.org/packages/75/28/b09f65cc62d282fab818fcacc44cd5b75735cbecd9f9602222198c269069/pami-2023.8.2.1-py3-none-any.whl.metadata (61 kB)\n",
      "     ---------------------------------------- 0.0/61.9 kB ? eta -:--:--\n",
      "     ---------------------------------------- 61.9/61.9 kB 3.4 MB/s eta 0:00:00\n",
      "Requirement already satisfied: contourpy>=1.0.1 in c:\\users\\daru\\appdata\\local\\programs\\python\\python311\\lib\\site-packages\\contourpy-1.1.0-py3.11-win-amd64.egg (from matplotlib->s1290202-learn==2023.8.6.3) (1.1.0)\n",
      "Requirement already satisfied: cycler>=0.10 in c:\\users\\daru\\appdata\\local\\programs\\python\\python311\\lib\\site-packages\\cycler-0.11.0-py3.11.egg (from matplotlib->s1290202-learn==2023.8.6.3) (0.11.0)\n",
      "Requirement already satisfied: fonttools>=4.22.0 in c:\\users\\daru\\appdata\\local\\programs\\python\\python311\\lib\\site-packages\\fonttools-4.42.0-py3.11.egg (from matplotlib->s1290202-learn==2023.8.6.3) (4.42.0)\n",
      "Requirement already satisfied: kiwisolver>=1.0.1 in c:\\users\\daru\\appdata\\local\\programs\\python\\python311\\lib\\site-packages\\kiwisolver-1.4.4-py3.11-win-amd64.egg (from matplotlib->s1290202-learn==2023.8.6.3) (1.4.4)\n",
      "Requirement already satisfied: packaging>=20.0 in c:\\users\\daru\\appdata\\local\\programs\\python\\python311\\lib\\site-packages\\packaging-23.1-py3.11.egg (from matplotlib->s1290202-learn==2023.8.6.3) (23.1)\n",
      "Requirement already satisfied: pyparsing<3.1,>=2.3.1 in c:\\users\\daru\\appdata\\local\\programs\\python\\python311\\lib\\site-packages\\pyparsing-3.0.9-py3.11.egg (from matplotlib->s1290202-learn==2023.8.6.3) (3.0.9)\n",
      "Requirement already satisfied: python-dateutil>=2.7 in c:\\users\\daru\\appdata\\local\\programs\\python\\python311\\lib\\site-packages\\python_dateutil-2.8.2-py3.11.egg (from matplotlib->s1290202-learn==2023.8.6.3) (2.8.2)\n",
      "Requirement already satisfied: pytz>=2020.1 in c:\\users\\daru\\appdata\\local\\programs\\python\\python311\\lib\\site-packages\\pytz-2023.3-py3.11.egg (from pandas->s1290202-learn==2023.8.6.3) (2023.3)\n",
      "Requirement already satisfied: tzdata>=2022.1 in c:\\users\\daru\\appdata\\local\\programs\\python\\python311\\lib\\site-packages\\tzdata-2023.3-py3.11.egg (from pandas->s1290202-learn==2023.8.6.3) (2023.3)\n",
      "Requirement already satisfied: tenacity>=6.2.0 in c:\\users\\daru\\appdata\\local\\programs\\python\\python311\\lib\\site-packages\\tenacity-8.2.2-py3.11.egg (from plotly->s1290202-learn==2023.8.6.3) (8.2.2)\n",
      "Requirement already satisfied: JsonForm>=0.0.2 in c:\\users\\daru\\appdata\\local\\programs\\python\\python311\\lib\\site-packages\\jsonform-0.0.2-py3.11.egg (from resource->s1290202-learn==2023.8.6.3) (0.0.2)\n",
      "Requirement already satisfied: JsonSir>=0.0.2 in c:\\users\\daru\\appdata\\local\\programs\\python\\python311\\lib\\site-packages\\jsonsir-0.0.2-py3.11.egg (from resource->s1290202-learn==2023.8.6.3) (0.0.2)\n",
      "Requirement already satisfied: python-easyconfig>=0.1.0 in c:\\users\\daru\\appdata\\local\\programs\\python\\python311\\lib\\site-packages\\python_easyconfig-0.1.7-py3.11.egg (from resource->s1290202-learn==2023.8.6.3) (0.1.7)\n",
      "Requirement already satisfied: decorator>=3.4.0 in c:\\users\\daru\\appdata\\local\\programs\\python\\python311\\lib\\site-packages\\decorator-5.1.1-py3.11.egg (from validators->s1290202-learn==2023.8.6.3) (5.1.1)\n",
      "Requirement already satisfied: jsonschema in c:\\users\\daru\\appdata\\local\\programs\\python\\python311\\lib\\site-packages\\jsonschema-4.18.6-py3.11.egg (from JsonForm>=0.0.2->resource->s1290202-learn==2023.8.6.3) (4.18.6)\n",
      "Requirement already satisfied: six>=1.5 in c:\\users\\daru\\appdata\\local\\programs\\python\\python311\\lib\\site-packages (from python-dateutil>=2.7->matplotlib->s1290202-learn==2023.8.6.3) (1.16.0)\n",
      "Requirement already satisfied: PyYAML in c:\\users\\daru\\appdata\\local\\programs\\python\\python311\\lib\\site-packages\\pyyaml-6.0.1-py3.11-win-amd64.egg (from python-easyconfig>=0.1.0->resource->s1290202-learn==2023.8.6.3) (6.0.1)\n",
      "Requirement already satisfied: attrs>=22.2.0 in c:\\users\\daru\\appdata\\local\\programs\\python\\python311\\lib\\site-packages\\attrs-23.1.0-py3.11.egg (from jsonschema->JsonForm>=0.0.2->resource->s1290202-learn==2023.8.6.3) (23.1.0)\n",
      "Requirement already satisfied: jsonschema-specifications>=2023.03.6 in c:\\users\\daru\\appdata\\local\\programs\\python\\python311\\lib\\site-packages\\jsonschema_specifications-2023.7.1-py3.11.egg (from jsonschema->JsonForm>=0.0.2->resource->s1290202-learn==2023.8.6.3) (2023.7.1)\n",
      "Requirement already satisfied: referencing>=0.28.4 in c:\\users\\daru\\appdata\\local\\programs\\python\\python311\\lib\\site-packages\\referencing-0.30.2-py3.11.egg (from jsonschema->JsonForm>=0.0.2->resource->s1290202-learn==2023.8.6.3) (0.30.2)\n",
      "Requirement already satisfied: rpds-py>=0.7.1 in c:\\users\\daru\\appdata\\local\\programs\\python\\python311\\lib\\site-packages\\rpds_py-0.9.2-py3.11-win-amd64.egg (from jsonschema->JsonForm>=0.0.2->resource->s1290202-learn==2023.8.6.3) (0.9.2)\n",
      "Downloading https://test-files.pythonhosted.org/packages/e9/68/25d74f4cfa0b1120a47af6fb52e372f86a1eb52747a7c73911bd7ab8d711/s1290202_learn-2023.8.6.3-py3-none-any.whl (4.0 kB)\n",
      "Downloading https://test-files.pythonhosted.org/packages/75/28/b09f65cc62d282fab818fcacc44cd5b75735cbecd9f9602222198c269069/pami-2023.8.2.1-py3-none-any.whl (803 kB)\n",
      "   ---------------------------------------- 0.0/803.4 kB ? eta -:--:--\n",
      "   ----------- ---------------------------- 225.3/803.4 kB 4.7 MB/s eta 0:00:01\n",
      "   ------------------------ --------------- 491.5/803.4 kB 5.2 MB/s eta 0:00:01\n",
      "   ---------------------------------------  798.7/803.4 kB 6.3 MB/s eta 0:00:01\n",
      "   ---------------------------------------- 803.4/803.4 kB 5.1 MB/s eta 0:00:00\n",
      "Installing collected packages: pami, s1290202-learn\n",
      "Successfully installed pami-2023.8.2.1 s1290202-learn-2023.8.6.3\n",
      "Note: you may need to restart the kernel to use updated packages.\n"
     ]
    },
    {
     "name": "stderr",
     "output_type": "stream",
     "text": [
      "DEPRECATION: Loading egg at c:\\users\\daru\\appdata\\local\\programs\\python\\python311\\lib\\site-packages\\attrs-23.1.0-py3.11.egg is deprecated. pip 23.3 will enforce this behaviour change. A possible replacement is to use pip for package installation..\n",
      "DEPRECATION: Loading egg at c:\\users\\daru\\appdata\\local\\programs\\python\\python311\\lib\\site-packages\\contourpy-1.1.0-py3.11-win-amd64.egg is deprecated. pip 23.3 will enforce this behaviour change. A possible replacement is to use pip for package installation..\n",
      "DEPRECATION: Loading egg at c:\\users\\daru\\appdata\\local\\programs\\python\\python311\\lib\\site-packages\\cycler-0.11.0-py3.11.egg is deprecated. pip 23.3 will enforce this behaviour change. A possible replacement is to use pip for package installation..\n",
      "DEPRECATION: Loading egg at c:\\users\\daru\\appdata\\local\\programs\\python\\python311\\lib\\site-packages\\decorator-5.1.1-py3.11.egg is deprecated. pip 23.3 will enforce this behaviour change. A possible replacement is to use pip for package installation..\n",
      "DEPRECATION: Loading egg at c:\\users\\daru\\appdata\\local\\programs\\python\\python311\\lib\\site-packages\\fonttools-4.42.0-py3.11.egg is deprecated. pip 23.3 will enforce this behaviour change. A possible replacement is to use pip for package installation..\n",
      "DEPRECATION: Loading egg at c:\\users\\daru\\appdata\\local\\programs\\python\\python311\\lib\\site-packages\\jsonform-0.0.2-py3.11.egg is deprecated. pip 23.3 will enforce this behaviour change. A possible replacement is to use pip for package installation..\n",
      "DEPRECATION: Loading egg at c:\\users\\daru\\appdata\\local\\programs\\python\\python311\\lib\\site-packages\\jsonschema-4.18.6-py3.11.egg is deprecated. pip 23.3 will enforce this behaviour change. A possible replacement is to use pip for package installation..\n",
      "DEPRECATION: Loading egg at c:\\users\\daru\\appdata\\local\\programs\\python\\python311\\lib\\site-packages\\jsonschema_specifications-2023.7.1-py3.11.egg is deprecated. pip 23.3 will enforce this behaviour change. A possible replacement is to use pip for package installation..\n",
      "DEPRECATION: Loading egg at c:\\users\\daru\\appdata\\local\\programs\\python\\python311\\lib\\site-packages\\jsonsir-0.0.2-py3.11.egg is deprecated. pip 23.3 will enforce this behaviour change. A possible replacement is to use pip for package installation..\n",
      "DEPRECATION: Loading egg at c:\\users\\daru\\appdata\\local\\programs\\python\\python311\\lib\\site-packages\\kiwisolver-1.4.4-py3.11-win-amd64.egg is deprecated. pip 23.3 will enforce this behaviour change. A possible replacement is to use pip for package installation..\n",
      "DEPRECATION: Loading egg at c:\\users\\daru\\appdata\\local\\programs\\python\\python311\\lib\\site-packages\\matplotlib-3.7.2-py3.11-win-amd64.egg is deprecated. pip 23.3 will enforce this behaviour change. A possible replacement is to use pip for package installation..\n",
      "DEPRECATION: Loading egg at c:\\users\\daru\\appdata\\local\\programs\\python\\python311\\lib\\site-packages\\numpy-1.25.2-py3.11-win-amd64.egg is deprecated. pip 23.3 will enforce this behaviour change. A possible replacement is to use pip for package installation..\n",
      "DEPRECATION: Loading egg at c:\\users\\daru\\appdata\\local\\programs\\python\\python311\\lib\\site-packages\\packaging-23.1-py3.11.egg is deprecated. pip 23.3 will enforce this behaviour change. A possible replacement is to use pip for package installation..\n",
      "DEPRECATION: Loading egg at c:\\users\\daru\\appdata\\local\\programs\\python\\python311\\lib\\site-packages\\pandas-2.0.3-py3.11-win-amd64.egg is deprecated. pip 23.3 will enforce this behaviour change. A possible replacement is to use pip for package installation..\n",
      "DEPRECATION: Loading egg at c:\\users\\daru\\appdata\\local\\programs\\python\\python311\\lib\\site-packages\\pillow-10.0.0-py3.11-win-amd64.egg is deprecated. pip 23.3 will enforce this behaviour change. A possible replacement is to use pip for package installation..\n",
      "DEPRECATION: Loading egg at c:\\users\\daru\\appdata\\local\\programs\\python\\python311\\lib\\site-packages\\plotly-5.15.0-py3.11.egg is deprecated. pip 23.3 will enforce this behaviour change. A possible replacement is to use pip for package installation..\n",
      "DEPRECATION: Loading egg at c:\\users\\daru\\appdata\\local\\programs\\python\\python311\\lib\\site-packages\\psutil-5.9.5-py3.11-win-amd64.egg is deprecated. pip 23.3 will enforce this behaviour change. A possible replacement is to use pip for package installation..\n",
      "DEPRECATION: Loading egg at c:\\users\\daru\\appdata\\local\\programs\\python\\python311\\lib\\site-packages\\pyparsing-3.0.9-py3.11.egg is deprecated. pip 23.3 will enforce this behaviour change. A possible replacement is to use pip for package installation..\n",
      "DEPRECATION: Loading egg at c:\\users\\daru\\appdata\\local\\programs\\python\\python311\\lib\\site-packages\\python_dateutil-2.8.2-py3.11.egg is deprecated. pip 23.3 will enforce this behaviour change. A possible replacement is to use pip for package installation..\n",
      "DEPRECATION: Loading egg at c:\\users\\daru\\appdata\\local\\programs\\python\\python311\\lib\\site-packages\\python_easyconfig-0.1.7-py3.11.egg is deprecated. pip 23.3 will enforce this behaviour change. A possible replacement is to use pip for package installation..\n",
      "DEPRECATION: Loading egg at c:\\users\\daru\\appdata\\local\\programs\\python\\python311\\lib\\site-packages\\pytz-2023.3-py3.11.egg is deprecated. pip 23.3 will enforce this behaviour change. A possible replacement is to use pip for package installation..\n",
      "DEPRECATION: Loading egg at c:\\users\\daru\\appdata\\local\\programs\\python\\python311\\lib\\site-packages\\pyyaml-6.0.1-py3.11-win-amd64.egg is deprecated. pip 23.3 will enforce this behaviour change. A possible replacement is to use pip for package installation..\n",
      "DEPRECATION: Loading egg at c:\\users\\daru\\appdata\\local\\programs\\python\\python311\\lib\\site-packages\\referencing-0.30.2-py3.11.egg is deprecated. pip 23.3 will enforce this behaviour change. A possible replacement is to use pip for package installation..\n",
      "DEPRECATION: Loading egg at c:\\users\\daru\\appdata\\local\\programs\\python\\python311\\lib\\site-packages\\resource-0.2.1-py3.11.egg is deprecated. pip 23.3 will enforce this behaviour change. A possible replacement is to use pip for package installation..\n",
      "DEPRECATION: Loading egg at c:\\users\\daru\\appdata\\local\\programs\\python\\python311\\lib\\site-packages\\rpds_py-0.9.2-py3.11-win-amd64.egg is deprecated. pip 23.3 will enforce this behaviour change. A possible replacement is to use pip for package installation..\n",
      "DEPRECATION: Loading egg at c:\\users\\daru\\appdata\\local\\programs\\python\\python311\\lib\\site-packages\\tenacity-8.2.2-py3.11.egg is deprecated. pip 23.3 will enforce this behaviour change. A possible replacement is to use pip for package installation..\n",
      "DEPRECATION: Loading egg at c:\\users\\daru\\appdata\\local\\programs\\python\\python311\\lib\\site-packages\\tzdata-2023.3-py3.11.egg is deprecated. pip 23.3 will enforce this behaviour change. A possible replacement is to use pip for package installation..\n",
      "DEPRECATION: Loading egg at c:\\users\\daru\\appdata\\local\\programs\\python\\python311\\lib\\site-packages\\validators-0.20.0-py3.11.egg is deprecated. pip 23.3 will enforce this behaviour change. A possible replacement is to use pip for package installation..\n"
     ]
    }
   ],
   "source": [
    "pip install -i https://test.pypi.org/simple/ s1290202-learn==2023.8.6.3"
   ]
  },
  {
   "cell_type": "code",
   "execution_count": 2,
   "metadata": {},
   "outputs": [
    {
     "name": "stdout",
     "output_type": "stream",
     "text": [
      "Name: s1290202-learn\n",
      "Version: 2023.8.6.3\n",
      "Summary: This software is being developed at the University of Aizu, Aizu-Wakamatsu, Fukushima, Japan\n",
      "Home-page: https://github.com/Darutanyankawaii/s1290202_learn\n",
      "Author: TAYAMA Taichi\n",
      "Author-email: darutanyan0515birthday@gmail.com\n",
      "License: GPLv3\n",
      "Location: c:\\Users\\daru\\AppData\\Local\\Programs\\Python\\Python311\\Lib\\site-packages\n",
      "Requires: matplotlib, numpy, pami, pandas, Pillow, plotly, psutil, resource, urllib3, validators\n",
      "Required-by: \n",
      "Note: you may need to restart the kernel to use updated packages.\n"
     ]
    },
    {
     "name": "stderr",
     "output_type": "stream",
     "text": [
      "DEPRECATION: Loading egg at c:\\users\\daru\\appdata\\local\\programs\\python\\python311\\lib\\site-packages\\attrs-23.1.0-py3.11.egg is deprecated. pip 23.3 will enforce this behaviour change. A possible replacement is to use pip for package installation..\n",
      "DEPRECATION: Loading egg at c:\\users\\daru\\appdata\\local\\programs\\python\\python311\\lib\\site-packages\\contourpy-1.1.0-py3.11-win-amd64.egg is deprecated. pip 23.3 will enforce this behaviour change. A possible replacement is to use pip for package installation..\n",
      "DEPRECATION: Loading egg at c:\\users\\daru\\appdata\\local\\programs\\python\\python311\\lib\\site-packages\\cycler-0.11.0-py3.11.egg is deprecated. pip 23.3 will enforce this behaviour change. A possible replacement is to use pip for package installation..\n",
      "DEPRECATION: Loading egg at c:\\users\\daru\\appdata\\local\\programs\\python\\python311\\lib\\site-packages\\decorator-5.1.1-py3.11.egg is deprecated. pip 23.3 will enforce this behaviour change. A possible replacement is to use pip for package installation..\n",
      "DEPRECATION: Loading egg at c:\\users\\daru\\appdata\\local\\programs\\python\\python311\\lib\\site-packages\\fonttools-4.42.0-py3.11.egg is deprecated. pip 23.3 will enforce this behaviour change. A possible replacement is to use pip for package installation..\n",
      "DEPRECATION: Loading egg at c:\\users\\daru\\appdata\\local\\programs\\python\\python311\\lib\\site-packages\\jsonform-0.0.2-py3.11.egg is deprecated. pip 23.3 will enforce this behaviour change. A possible replacement is to use pip for package installation..\n",
      "DEPRECATION: Loading egg at c:\\users\\daru\\appdata\\local\\programs\\python\\python311\\lib\\site-packages\\jsonschema-4.18.6-py3.11.egg is deprecated. pip 23.3 will enforce this behaviour change. A possible replacement is to use pip for package installation..\n",
      "DEPRECATION: Loading egg at c:\\users\\daru\\appdata\\local\\programs\\python\\python311\\lib\\site-packages\\jsonschema_specifications-2023.7.1-py3.11.egg is deprecated. pip 23.3 will enforce this behaviour change. A possible replacement is to use pip for package installation..\n",
      "DEPRECATION: Loading egg at c:\\users\\daru\\appdata\\local\\programs\\python\\python311\\lib\\site-packages\\jsonsir-0.0.2-py3.11.egg is deprecated. pip 23.3 will enforce this behaviour change. A possible replacement is to use pip for package installation..\n",
      "DEPRECATION: Loading egg at c:\\users\\daru\\appdata\\local\\programs\\python\\python311\\lib\\site-packages\\kiwisolver-1.4.4-py3.11-win-amd64.egg is deprecated. pip 23.3 will enforce this behaviour change. A possible replacement is to use pip for package installation..\n",
      "DEPRECATION: Loading egg at c:\\users\\daru\\appdata\\local\\programs\\python\\python311\\lib\\site-packages\\matplotlib-3.7.2-py3.11-win-amd64.egg is deprecated. pip 23.3 will enforce this behaviour change. A possible replacement is to use pip for package installation..\n",
      "DEPRECATION: Loading egg at c:\\users\\daru\\appdata\\local\\programs\\python\\python311\\lib\\site-packages\\numpy-1.25.2-py3.11-win-amd64.egg is deprecated. pip 23.3 will enforce this behaviour change. A possible replacement is to use pip for package installation..\n",
      "DEPRECATION: Loading egg at c:\\users\\daru\\appdata\\local\\programs\\python\\python311\\lib\\site-packages\\packaging-23.1-py3.11.egg is deprecated. pip 23.3 will enforce this behaviour change. A possible replacement is to use pip for package installation..\n",
      "DEPRECATION: Loading egg at c:\\users\\daru\\appdata\\local\\programs\\python\\python311\\lib\\site-packages\\pandas-2.0.3-py3.11-win-amd64.egg is deprecated. pip 23.3 will enforce this behaviour change. A possible replacement is to use pip for package installation..\n",
      "DEPRECATION: Loading egg at c:\\users\\daru\\appdata\\local\\programs\\python\\python311\\lib\\site-packages\\pillow-10.0.0-py3.11-win-amd64.egg is deprecated. pip 23.3 will enforce this behaviour change. A possible replacement is to use pip for package installation..\n",
      "DEPRECATION: Loading egg at c:\\users\\daru\\appdata\\local\\programs\\python\\python311\\lib\\site-packages\\plotly-5.15.0-py3.11.egg is deprecated. pip 23.3 will enforce this behaviour change. A possible replacement is to use pip for package installation..\n",
      "DEPRECATION: Loading egg at c:\\users\\daru\\appdata\\local\\programs\\python\\python311\\lib\\site-packages\\psutil-5.9.5-py3.11-win-amd64.egg is deprecated. pip 23.3 will enforce this behaviour change. A possible replacement is to use pip for package installation..\n",
      "DEPRECATION: Loading egg at c:\\users\\daru\\appdata\\local\\programs\\python\\python311\\lib\\site-packages\\pyparsing-3.0.9-py3.11.egg is deprecated. pip 23.3 will enforce this behaviour change. A possible replacement is to use pip for package installation..\n",
      "DEPRECATION: Loading egg at c:\\users\\daru\\appdata\\local\\programs\\python\\python311\\lib\\site-packages\\python_dateutil-2.8.2-py3.11.egg is deprecated. pip 23.3 will enforce this behaviour change. A possible replacement is to use pip for package installation..\n",
      "DEPRECATION: Loading egg at c:\\users\\daru\\appdata\\local\\programs\\python\\python311\\lib\\site-packages\\python_easyconfig-0.1.7-py3.11.egg is deprecated. pip 23.3 will enforce this behaviour change. A possible replacement is to use pip for package installation..\n",
      "DEPRECATION: Loading egg at c:\\users\\daru\\appdata\\local\\programs\\python\\python311\\lib\\site-packages\\pytz-2023.3-py3.11.egg is deprecated. pip 23.3 will enforce this behaviour change. A possible replacement is to use pip for package installation..\n",
      "DEPRECATION: Loading egg at c:\\users\\daru\\appdata\\local\\programs\\python\\python311\\lib\\site-packages\\pyyaml-6.0.1-py3.11-win-amd64.egg is deprecated. pip 23.3 will enforce this behaviour change. A possible replacement is to use pip for package installation..\n",
      "DEPRECATION: Loading egg at c:\\users\\daru\\appdata\\local\\programs\\python\\python311\\lib\\site-packages\\referencing-0.30.2-py3.11.egg is deprecated. pip 23.3 will enforce this behaviour change. A possible replacement is to use pip for package installation..\n",
      "DEPRECATION: Loading egg at c:\\users\\daru\\appdata\\local\\programs\\python\\python311\\lib\\site-packages\\resource-0.2.1-py3.11.egg is deprecated. pip 23.3 will enforce this behaviour change. A possible replacement is to use pip for package installation..\n",
      "DEPRECATION: Loading egg at c:\\users\\daru\\appdata\\local\\programs\\python\\python311\\lib\\site-packages\\rpds_py-0.9.2-py3.11-win-amd64.egg is deprecated. pip 23.3 will enforce this behaviour change. A possible replacement is to use pip for package installation..\n",
      "DEPRECATION: Loading egg at c:\\users\\daru\\appdata\\local\\programs\\python\\python311\\lib\\site-packages\\tenacity-8.2.2-py3.11.egg is deprecated. pip 23.3 will enforce this behaviour change. A possible replacement is to use pip for package installation..\n",
      "DEPRECATION: Loading egg at c:\\users\\daru\\appdata\\local\\programs\\python\\python311\\lib\\site-packages\\tzdata-2023.3-py3.11.egg is deprecated. pip 23.3 will enforce this behaviour change. A possible replacement is to use pip for package installation..\n",
      "DEPRECATION: Loading egg at c:\\users\\daru\\appdata\\local\\programs\\python\\python311\\lib\\site-packages\\validators-0.20.0-py3.11.egg is deprecated. pip 23.3 will enforce this behaviour change. A possible replacement is to use pip for package installation..\n"
     ]
    }
   ],
   "source": [
    "pip show s1290202_learn"
   ]
  },
  {
   "cell_type": "code",
   "execution_count": 2,
   "metadata": {},
   "outputs": [
    {
     "ename": "TypeError",
     "evalue": "'module' object is not callable",
     "output_type": "error",
     "traceback": [
      "\u001b[1;31m---------------------------------------------------------------------------\u001b[0m",
      "\u001b[1;31mTypeError\u001b[0m                                 Traceback (most recent call last)",
      "Cell \u001b[1;32mIn[2], line 2\u001b[0m\n\u001b[0;32m      1\u001b[0m \u001b[39mfrom\u001b[39;00m \u001b[39ms1290202_learn\u001b[39;00m\u001b[39m.\u001b[39;00m\u001b[39mstatistics\u001b[39;00m \u001b[39mimport\u001b[39;00m frequenciesOfItems\n\u001b[1;32m----> 2\u001b[0m aaa \u001b[39m=\u001b[39m frequenciesOfItems(\u001b[39m'\u001b[39;49m\u001b[39mPM24HeavyPollutionRecordingSensors.csv\u001b[39;49m\u001b[39m'\u001b[39;49m, \u001b[39m'\u001b[39;49m\u001b[39m,\u001b[39;49m\u001b[39m'\u001b[39;49m)\n",
      "\u001b[1;31mTypeError\u001b[0m: 'module' object is not callable"
     ]
    }
   ],
   "source": [
    "from s1290202_learn.statistics import frequenciesOfItems\n",
    "aaa = frequenciesOfItems('PM24HeavyPollutionRecordingSensors.csv', ',')\n",
    "a"
   ]
  },
  {
   "cell_type": "code",
   "execution_count": null,
   "metadata": {},
   "outputs": [],
   "source": []
  }
 ],
 "metadata": {
  "kernelspec": {
   "display_name": "aidemy",
   "language": "python",
   "name": "python3"
  },
  "language_info": {
   "codemirror_mode": {
    "name": "ipython",
    "version": 3
   },
   "file_extension": ".py",
   "mimetype": "text/x-python",
   "name": "python",
   "nbconvert_exporter": "python",
   "pygments_lexer": "ipython3",
   "version": "3.11.0"
  },
  "orig_nbformat": 4
 },
 "nbformat": 4,
 "nbformat_minor": 2
}
